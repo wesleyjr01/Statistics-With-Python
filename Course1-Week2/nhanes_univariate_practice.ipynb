{
 "cells": [
  {
   "cell_type": "markdown",
   "metadata": {},
   "source": [
    "# Practice notebook for univariate analysis using NHANES data\n",
    "\n",
    "This notebook will give you the opportunity to perform some univariate analyses on your own using the NHANES.  These analyses are similar to what was done in the week 2 NHANES case study notebook.\n",
    "\n",
    "You can enter your code into the cells that say \"enter your code here\", and you can type responses to the questions into the cells that say \"Type Markdown and Latex\".\n",
    "\n",
    "Note that most of the code that you will need to write below is very similar to code that appears in the case study notebook.  You will need to edit code from that notebook in small ways to adapt it to the prompts below.\n",
    "\n",
    "To get started, we will use the same module imports and read the data in the same way as we did in the case study:"
   ]
  },
  {
   "cell_type": "code",
   "execution_count": 1,
   "metadata": {},
   "outputs": [],
   "source": [
    "%matplotlib inline\n",
    "import matplotlib.pyplot as plt\n",
    "import seaborn as sns\n",
    "import pandas as pd\n",
    "import statsmodels.api as sm\n",
    "import numpy as np\n",
    "\n",
    "da = pd.read_csv(\"nhanes_2015_2016.csv\")"
   ]
  },
  {
   "cell_type": "markdown",
   "metadata": {},
   "source": [
    "## Question 1\n",
    "\n",
    "Relabel the marital status variable [DMDMARTL](https://wwwn.cdc.gov/Nchs/Nhanes/2015-2016/DEMO_I.htm#DMDMARTL) to have brief but informative character labels.  Then construct a frequency table of these values for all people, then for women only, and for men only.  Then construct these three contingency tables using only people whose age is between 30 and 40."
   ]
  },
  {
   "cell_type": "code",
   "execution_count": 4,
   "metadata": {},
   "outputs": [],
   "source": [
    "da.DMDMARTL = da.DMDMARTL.replace({1: 'Married', 2: 'Widowed', 3: 'Divorced',\n",
    "                                  4: 'Separated', 5: 'Never married', 6: 'Living with partnet',\n",
    "                                 77: 'Rest', 99: 'Rest'})"
   ]
  },
  {
   "cell_type": "code",
   "execution_count": 7,
   "metadata": {},
   "outputs": [
    {
     "data": {
      "text/plain": [
       "array(['Married', 'Divorced', 'Living with partnet', 'Separated',\n",
       "       'Never married', nan, 'Widowed', 'Rest'], dtype=object)"
      ]
     },
     "execution_count": 7,
     "metadata": {},
     "output_type": "execute_result"
    }
   ],
   "source": [
    "da.DMDMARTL.unique()"
   ]
  },
  {
   "cell_type": "code",
   "execution_count": 11,
   "metadata": {},
   "outputs": [],
   "source": [
    "da.RIAGENDR = da.RIAGENDR.replace({\n",
    "    1: 'Male',\n",
    "    2: 'Female'\n",
    "})"
   ]
  },
  {
   "cell_type": "code",
   "execution_count": 12,
   "metadata": {},
   "outputs": [
    {
     "data": {
      "text/plain": [
       "array(['Male', 'Female'], dtype=object)"
      ]
     },
     "execution_count": 12,
     "metadata": {},
     "output_type": "execute_result"
    }
   ],
   "source": [
    "da.RIAGENDR.unique()"
   ]
  },
  {
   "cell_type": "code",
   "execution_count": 16,
   "metadata": {},
   "outputs": [
    {
     "data": {
      "text/plain": [
       "Married                0.457193\n",
       "Never married          0.182456\n",
       "Divorced               0.122807\n",
       "Widowed                0.103860\n",
       "Living with partnet    0.091930\n",
       "Separated              0.041404\n",
       "Rest                   0.000351\n",
       "Name: DMDMARTL, dtype: float64"
      ]
     },
     "execution_count": 16,
     "metadata": {},
     "output_type": "execute_result"
    }
   ],
   "source": [
    "# Frequency table for women only\n",
    "da.loc[da.RIAGENDR == 'Female', 'DMDMARTL'].value_counts(normalize=True)"
   ]
  },
  {
   "cell_type": "code",
   "execution_count": 18,
   "metadata": {},
   "outputs": [
    {
     "data": {
      "text/plain": [
       "Married                0.562881\n",
       "Never married          0.184451\n",
       "Living with partnet    0.100991\n",
       "Divorced               0.087271\n",
       "Widowed                0.038110\n",
       "Separated              0.025915\n",
       "Rest                   0.000381\n",
       "Name: DMDMARTL, dtype: float64"
      ]
     },
     "execution_count": 18,
     "metadata": {},
     "output_type": "execute_result"
    }
   ],
   "source": [
    "# Frequency table for men only\n",
    "da.loc[da.RIAGENDR == 'Male', 'DMDMARTL'].value_counts(normalize=True)"
   ]
  },
  {
   "cell_type": "code",
   "execution_count": 40,
   "metadata": {
    "scrolled": true
   },
   "outputs": [
    {
     "data": {
      "text/plain": [
       "Married                0.563319\n",
       "Never married          0.194323\n",
       "Living with partnet    0.157205\n",
       "Divorced               0.052402\n",
       "Separated              0.026201\n",
       "Widowed                0.004367\n",
       "Rest                   0.002183\n",
       "Name: DMDMARTL, dtype: float64"
      ]
     },
     "execution_count": 40,
     "metadata": {},
     "output_type": "execute_result"
    }
   ],
   "source": [
    "# Frequency table for men only beetween 30 and 40 years\n",
    "da.loc[(da.RIAGENDR == 'Male') & (da.RIDAGEYR>30) & (da.RIDAGEYR<=40), 'DMDMARTL'].value_counts(normalize=True)"
   ]
  },
  {
   "cell_type": "code",
   "execution_count": 19,
   "metadata": {},
   "outputs": [
    {
     "data": {
      "text/plain": [
       "0    (60, 70]\n",
       "1    (50, 60]\n",
       "2    (70, 80]\n",
       "3    (50, 60]\n",
       "4    (40, 50]\n",
       "Name: agecut, dtype: category\n",
       "Categories (7, interval[int64]): [(0, 18] < (18, 30] < (30, 40] < (40, 50] < (50, 60] < (60, 70] < (70, 80]]"
      ]
     },
     "execution_count": 19,
     "metadata": {},
     "output_type": "execute_result"
    }
   ],
   "source": [
    "# Build a cetegorical feature with age\n",
    "da[\"agecut\"] = pd.cut(da.RIDAGEYR, [0, 18, 30, 40, 50, 60, 70, 80])\n",
    "da[\"agecut\"].head()"
   ]
  },
  {
   "cell_type": "code",
   "execution_count": 17,
   "metadata": {},
   "outputs": [
    {
     "data": {
      "text/plain": [
       "Married                0.507855\n",
       "Never married          0.183412\n",
       "Divorced               0.105773\n",
       "Living with partnet    0.096273\n",
       "Widowed                0.072342\n",
       "Separated              0.033979\n",
       "Rest                   0.000365\n",
       "Name: DMDMARTL, dtype: float64"
      ]
     },
     "execution_count": 17,
     "metadata": {},
     "output_type": "execute_result"
    }
   ],
   "source": [
    "# Frequency table of all peolple\n",
    "da.DMDMARTL.value_counts(normalize=True)"
   ]
  },
  {
   "cell_type": "code",
   "execution_count": 36,
   "metadata": {},
   "outputs": [
    {
     "data": {
      "text/plain": [
       "Married                0.553648\n",
       "Never married          0.199571\n",
       "Living with partnet    0.138412\n",
       "Divorced               0.071888\n",
       "Separated              0.031116\n",
       "Widowed                0.004292\n",
       "Rest                   0.001073\n",
       "Name: DMDMARTL, dtype: float64"
      ]
     },
     "execution_count": 36,
     "metadata": {},
     "output_type": "execute_result"
    }
   ],
   "source": [
    "# Frequency table of all peolple beetween 30 and 40 years\n",
    "da[(da.RIDAGEYR>30) & (da.RIDAGEYR<=40)].DMDMARTL.value_counts(normalize=True)"
   ]
  },
  {
   "cell_type": "code",
   "execution_count": 38,
   "metadata": {},
   "outputs": [
    {
     "data": {
      "text/plain": [
       "Married                0.544304\n",
       "Never married          0.204641\n",
       "Living with partnet    0.120253\n",
       "Divorced               0.090717\n",
       "Separated              0.035865\n",
       "Widowed                0.004219\n",
       "Name: DMDMARTL, dtype: float64"
      ]
     },
     "execution_count": 38,
     "metadata": {},
     "output_type": "execute_result"
    }
   ],
   "source": [
    "# Frequency table for women only beetween 30 and 40 years\n",
    "da.loc[(da.RIAGENDR == 'Female') & (da.RIDAGEYR>30) & (da.RIDAGEYR<=40), 'DMDMARTL'].value_counts(normalize=True)"
   ]
  },
  {
   "cell_type": "markdown",
   "metadata": {},
   "source": [
    "__Q1a.__ Briefly comment on some of the differences that you observe between the distribution of marital status between women and men, for people of all ages."
   ]
  },
  {
   "cell_type": "markdown",
   "metadata": {},
   "source": [
    "Over all ages, there are more substantially Married Men than Women, the gender doesnt change much to people who\n",
    "never married. Also, there are a lot more women separated then men."
   ]
  },
  {
   "cell_type": "markdown",
   "metadata": {},
   "source": [
    "__Q1b.__ Briefly comment on the differences that you observe between the distribution of marital status states for women between the overall population, and for women between the ages of 30 and 40."
   ]
  },
  {
   "cell_type": "markdown",
   "metadata": {},
   "source": [
    "There are significantly more Married people or Living with partner beetwen 30-40 than the overall age sample, and\n",
    "the overall age sample show signifcant more Divorced, Separated and Widowed people than the sample of 30-40 years people."
   ]
  },
  {
   "cell_type": "markdown",
   "metadata": {},
   "source": [
    "__Q1c.__ Repeat part b for the men."
   ]
  },
  {
   "cell_type": "markdown",
   "metadata": {},
   "source": [
    "For men only, there are a significantly more Living with partner to those at the at of 30-40 than the overall age."
   ]
  },
  {
   "cell_type": "markdown",
   "metadata": {},
   "source": [
    "## Question 2\n",
    "\n",
    "Restricting to the female population, stratify the subjects into age bands no wider than ten years, and construct the distribution of marital status within each age band.  Within each age band, present the distribution in terms of proportions that must sum to 1."
   ]
  },
  {
   "cell_type": "code",
   "execution_count": 46,
   "metadata": {},
   "outputs": [
    {
     "data": {
      "text/plain": [
       "RIAGENDR  agecut    DMDMARTL           \n",
       "Female    (18, 30]  Never married          0.468354\n",
       "                    Married                0.285714\n",
       "                    Living with partnet    0.206148\n",
       "                    Divorced               0.019892\n",
       "                    Separated              0.019892\n",
       "          (30, 40]  Married                0.544304\n",
       "                    Never married          0.204641\n",
       "                    Living with partnet    0.120253\n",
       "                    Divorced               0.090717\n",
       "                    Separated              0.035865\n",
       "                    Widowed                0.004219\n",
       "          (40, 50]  Married                0.573705\n",
       "                    Divorced               0.137450\n",
       "                    Never married          0.125498\n",
       "                    Living with partnet    0.073705\n",
       "                    Separated              0.065737\n",
       "                    Widowed                0.023904\n",
       "          (50, 60]  Married                0.546809\n",
       "                    Divorced               0.176596\n",
       "                    Never married          0.089362\n",
       "                    Living with partnet    0.068085\n",
       "                    Widowed                0.059574\n",
       "                    Separated              0.057447\n",
       "                    Rest                   0.002128\n",
       "          (60, 70]  Married                0.480726\n",
       "                    Divorced               0.192744\n",
       "                    Widowed                0.147392\n",
       "                    Never married          0.086168\n",
       "                    Separated              0.049887\n",
       "                    Living with partnet    0.043084\n",
       "          (70, 80]  Widowed                0.460976\n",
       "                    Married                0.317073\n",
       "                    Divorced               0.143902\n",
       "                    Never married          0.051220\n",
       "                    Separated              0.019512\n",
       "                    Living with partnet    0.007317\n",
       "Name: DMDMARTL, dtype: float64"
      ]
     },
     "execution_count": 46,
     "metadata": {},
     "output_type": "execute_result"
    }
   ],
   "source": [
    "female_da = da[da['RIAGENDR'] == 'Female']\n",
    "female_da.groupby(['RIAGENDR','agecut'])['DMDMARTL'].value_counts(normalize=True)"
   ]
  },
  {
   "cell_type": "markdown",
   "metadata": {},
   "source": [
    "__Q2a.__ Comment on the trends that you see in this series of marginal distributions."
   ]
  },
  {
   "cell_type": "markdown",
   "metadata": {},
   "source": [
    "To women, the **Marriege** status rise from the age of 18's to the 50's, and then starts falling off to the higher\n",
    "ages.\n",
    "The **Divorced** women vary a lot beetween ages, and the **Widowed** women tend to rise from the 50's on."
   ]
  },
  {
   "cell_type": "markdown",
   "metadata": {},
   "source": [
    "__Q2b.__ Repeat the construction for males."
   ]
  },
  {
   "cell_type": "code",
   "execution_count": 62,
   "metadata": {},
   "outputs": [
    {
     "data": {
      "text/plain": [
       "RIAGENDR  agecut    DMDMARTL           \n",
       "Male      (18, 30]  Never married          0.555085\n",
       "                    Married                0.220339\n",
       "                    Living with partnet    0.201271\n",
       "                    Separated              0.014831\n",
       "                    Divorced               0.004237\n",
       "                    Widowed                0.004237\n",
       "          (30, 40]  Married                0.563319\n",
       "                    Never married          0.194323\n",
       "                    Living with partnet    0.157205\n",
       "                    Divorced               0.052402\n",
       "                    Separated              0.026201\n",
       "                    Widowed                0.004367\n",
       "                    Rest                   0.002183\n",
       "          (40, 50]  Married                0.703242\n",
       "                    Never married          0.097257\n",
       "                    Divorced               0.084788\n",
       "                    Living with partnet    0.082294\n",
       "                    Separated              0.027431\n",
       "                    Widowed                0.004988\n",
       "          (50, 60]  Married                0.651982\n",
       "                    Divorced               0.125551\n",
       "                    Never married          0.103524\n",
       "                    Living with partnet    0.074890\n",
       "                    Separated              0.022026\n",
       "                    Widowed                0.022026\n",
       "          (60, 70]  Married                0.665904\n",
       "                    Divorced               0.125858\n",
       "                    Never married          0.086957\n",
       "                    Living with partnet    0.050343\n",
       "                    Widowed                0.038902\n",
       "                    Separated              0.032037\n",
       "          (70, 80]  Married                0.611940\n",
       "                    Widowed                0.166667\n",
       "                    Divorced               0.141791\n",
       "                    Separated              0.034826\n",
       "                    Living with partnet    0.022388\n",
       "                    Never married          0.022388\n",
       "Name: DMDMARTL, dtype: float64"
      ]
     },
     "execution_count": 62,
     "metadata": {},
     "output_type": "execute_result"
    }
   ],
   "source": [
    "male_da = da[da['RIAGENDR'] == 'Male']\n",
    "male_da.groupby(['RIAGENDR','agecut'])['DMDMARTL'].value_counts(normalize=True)"
   ]
  },
  {
   "cell_type": "code",
   "execution_count": null,
   "metadata": {},
   "outputs": [],
   "source": [
    "# insert your code here"
   ]
  },
  {
   "cell_type": "markdown",
   "metadata": {},
   "source": [
    "__Q2c.__ Comment on any notable differences that you see when comparing these results for females and for males."
   ]
  },
  {
   "cell_type": "markdown",
   "metadata": {},
   "source": []
  },
  {
   "cell_type": "markdown",
   "metadata": {},
   "source": [
    "## Question 3\n",
    "\n",
    "Construct a histogram of the distribution of heights in the NHANES sample."
   ]
  },
  {
   "cell_type": "code",
   "execution_count": 61,
   "metadata": {},
   "outputs": [
    {
     "data": {
      "text/plain": [
       "Text(0.5,1,'Heights Distribution Plot')"
      ]
     },
     "execution_count": 61,
     "metadata": {},
     "output_type": "execute_result"
    },
    {
     "data": {
      "image/png": "[encoded data removed]",
      "text/plain": [
       "<Figure size 432x288 with 1 Axes>"
      ]
     },
     "metadata": {},
     "output_type": "display_data"
    }
   ],
   "source": [
    "sns.distplot(da.BMXHT.dropna(), kde = False, bins=40).set_title('Heights Distribution Plot')"
   ]
  },
  {
   "cell_type": "markdown",
   "metadata": {},
   "source": [
    "__Q3a.__ Use the `bins` argument to [distplot](https://seaborn.pydata.org/generated/seaborn.distplot.html) to produce histograms with different numbers of bins.  Assess whether the default value for this argument gives a meaningful result, and comment on what happens as the number of bins grows excessively large or excessively small. "
   ]
  },
  {
   "cell_type": "markdown",
   "metadata": {},
   "source": [
    "The lower the number of bins, the smoother the distplot becomes, but too low number of bins may hide the real shape of the curve."
   ]
  },
  {
   "cell_type": "markdown",
   "metadata": {},
   "source": [
    "__Q3b.__ Make separate histograms for the heights of women and men, then make a side-by-side boxplot showing the heights of women and men."
   ]
  },
  {
   "cell_type": "code",
   "execution_count": 63,
   "metadata": {},
   "outputs": [
    {
     "data": {
      "image/png": "[encoded data removed]",
      "text/plain": [
       "<Figure size 432x288 with 1 Axes>"
      ]
     },
     "metadata": {},
     "output_type": "display_data"
    }
   ],
   "source": [
    "male_da = da[da['RIAGENDR'] == 'Male']\n",
    "female_da = da[da['RIAGENDR'] == 'Female']\n",
    "# Plot a histogram of both the total bill and the tips'\n",
    "sns.distplot(male_da.BMXHT.dropna(), kde = False)\n",
    "sns.distplot(female_da.BMXHT.dropna(), kde = False).set_title(\"Histogram of Male and Female Height\")\n",
    "plt.show()"
   ]
  },
  {
   "cell_type": "code",
   "execution_count": 64,
   "metadata": {},
   "outputs": [
    {
     "data": {
      "text/plain": [
       "<matplotlib.axes._subplots.AxesSubplot at 0x7fa632c46080>"
      ]
     },
     "execution_count": 64,
     "metadata": {},
     "output_type": "execute_result"
    },
    {
     "data": {
      "image/png": "[encoded data removed]",
      "text/plain": [
       "<Figure size 864x360 with 1 Axes>"
      ]
     },
     "metadata": {},
     "output_type": "display_data"
    }
   ],
   "source": [
    "# BoxPlot of Height by Gender\n",
    "plt.figure(figsize=(12, 5)) \n",
    "sns.boxplot(x=\"RIAGENDR\", y=\"BMXHT\", data=da) "
   ]
  },
  {
   "cell_type": "markdown",
   "metadata": {},
   "source": [
    "__Q3c.__ Comment on what features, if any are not represented clearly in the boxplots, and what features, if any, are easier to see in the boxplots than in the histograms."
   ]
  },
  {
   "cell_type": "markdown",
   "metadata": {},
   "source": [
    "In the boxplot the center of ages by the median is easier to reach, since on the histogram it is harder. Also,\n",
    "it is easier to see in boxplots that the outliers for Men are more sparse than for Women."
   ]
  },
  {
   "cell_type": "markdown",
   "metadata": {},
   "source": [
    "__Q3d.__ Make a histogram of the log-transformed heights."
   ]
  },
  {
   "cell_type": "code",
   "execution_count": 66,
   "metadata": {},
   "outputs": [
    {
     "data": {
      "image/png": "[encoded data removed]",
      "text/plain": [
       "<Figure size 432x288 with 1 Axes>"
      ]
     },
     "metadata": {},
     "output_type": "display_data"
    }
   ],
   "source": [
    "male_da = da[da['RIAGENDR'] == 'Male']\n",
    "female_da = da[da['RIAGENDR'] == 'Female']\n",
    "# Plot a histogram of both the total bill and the tips'\n",
    "sns.distplot(np.log(male_da.BMXHT.dropna()), kde = False)\n",
    "sns.distplot(np.log(female_da.BMXHT.dropna()), kde = False).set_title(\"Histogram of Male and Female Height\")\n",
    "plt.show()"
   ]
  },
  {
   "cell_type": "markdown",
   "metadata": {},
   "source": [
    "__Q3e.__ Comment on the relationship between the ditribution of the heights and the distribution of the log-transformed heights. "
   ]
  },
  {
   "cell_type": "markdown",
   "metadata": {},
   "source": [
    "I dont see a huge difference beetwen log and non-log transformed variables distribution."
   ]
  },
  {
   "cell_type": "markdown",
   "metadata": {},
   "source": [
    "## Question 4\n",
    "\n",
    "Make a boxplot showing the distribution of within-subject differences between the first and second systolic blood pressure measurents ([BPXSY1](https://wwwn.cdc.gov/Nchs/Nhanes/2015-2016/BPX_I.htm#BPXSY1) and [BPXSY2](https://wwwn.cdc.gov/Nchs/Nhanes/2015-2016/BPX_I.htm#BPXSY2))."
   ]
  },
  {
   "cell_type": "code",
   "execution_count": 68,
   "metadata": {},
   "outputs": [
    {
     "data": {
      "text/plain": [
       "<matplotlib.axes._subplots.AxesSubplot at 0x7fa632affbe0>"
      ]
     },
     "execution_count": 68,
     "metadata": {},
     "output_type": "execute_result"
    },
    {
     "data": {
      "image/png": "[encoded data removed]",
      "text/plain": [
       "<Figure size 864x360 with 1 Axes>"
      ]
     },
     "metadata": {},
     "output_type": "display_data"
    }
   ],
   "source": [
    "plt.figure(figsize=(12, 5)) \n",
    "sns.boxplot(da.BPXSY2 - da.BPXSY1) "
   ]
  },
  {
   "cell_type": "markdown",
   "metadata": {},
   "source": [
    "__Q4a.__ What proportion of the subjects have a lower SBP on the second reading compared to the first?"
   ]
  },
  {
   "cell_type": "code",
   "execution_count": 83,
   "metadata": {},
   "outputs": [
    {
     "data": {
      "text/plain": [
       "0.34123801220575412"
      ]
     },
     "execution_count": 83,
     "metadata": {},
     "output_type": "execute_result"
    }
   ],
   "source": [
    "da['BPXSYdif'] = da.BPXSY2 - da.BPXSY1\n",
    "da[da.BPXSYdif>0].BPXSYdif.count()/len(da[da.notnull()])"
   ]
  },
  {
   "cell_type": "markdown",
   "metadata": {},
   "source": [
    "__Q4b.__ Make side-by-side boxplots of the two systolic blood pressure variables."
   ]
  },
  {
   "cell_type": "code",
   "execution_count": 88,
   "metadata": {},
   "outputs": [
    {
     "data": {
      "text/plain": [
       "<matplotlib.axes._subplots.AxesSubplot at 0x7fa63254f128>"
      ]
     },
     "execution_count": 88,
     "metadata": {},
     "output_type": "execute_result"
    },
    {
     "data": {
      "image/png": "[encoded data removed]",
      "text/plain": [
       "<Figure size 1080x360 with 2 Axes>"
      ]
     },
     "metadata": {},
     "output_type": "display_data"
    }
   ],
   "source": [
    "f, axes = plt.subplots(1, 2, figsize=(15,5))\n",
    "sns.boxplot(da.BPXSY1,  ax=axes[0])\n",
    "sns.boxplot(da.BPXSY2,  ax=axes[1]) "
   ]
  },
  {
   "cell_type": "code",
   "execution_count": 89,
   "metadata": {},
   "outputs": [
    {
     "data": {
      "text/plain": [
       "count    5401.000000\n",
       "mean      125.084614\n",
       "std        18.480873\n",
       "min        82.000000\n",
       "25%       112.000000\n",
       "50%       122.000000\n",
       "75%       134.000000\n",
       "max       236.000000\n",
       "Name: BPXSY1, dtype: float64"
      ]
     },
     "execution_count": 89,
     "metadata": {},
     "output_type": "execute_result"
    }
   ],
   "source": [
    "da.BPXSY1.describe()"
   ]
  },
  {
   "cell_type": "code",
   "execution_count": 90,
   "metadata": {},
   "outputs": [
    {
     "data": {
      "text/plain": [
       "count    5535.000000\n",
       "mean      124.783017\n",
       "std        18.527012\n",
       "min        84.000000\n",
       "25%       112.000000\n",
       "50%       122.000000\n",
       "75%       134.000000\n",
       "max       238.000000\n",
       "Name: BPXSY2, dtype: float64"
      ]
     },
     "execution_count": 90,
     "metadata": {},
     "output_type": "execute_result"
    }
   ],
   "source": [
    "da.BPXSY2.describe()"
   ]
  },
  {
   "cell_type": "markdown",
   "metadata": {},
   "source": [
    "__Q4c.__ Comment on the variation within either the first or second systolic blood pressure measurements, and the variation in the within-subject differences between the first and second systolic blood pressure measurements."
   ]
  },
  {
   "cell_type": "markdown",
   "metadata": {},
   "source": [
    "Both measurements are honestly very close, in regard to all of the 5 metrics described by the boxplot, except the meand of the second measurements is slightly lower."
   ]
  },
  {
   "cell_type": "markdown",
   "metadata": {},
   "source": [
    "## Question 5\n",
    "\n",
    "Construct a frequency table of household sizes for people within each educational attainment category (the relevant variable is [DMDEDUC2](https://wwwn.cdc.gov/Nchs/Nhanes/2015-2016/DEMO_I.htm#DMDEDUC2)).  Convert the frequencies to proportions."
   ]
  },
  {
   "cell_type": "code",
   "execution_count": null,
   "metadata": {},
   "outputs": [],
   "source": [
    "# insert your code here"
   ]
  },
  {
   "cell_type": "markdown",
   "metadata": {},
   "source": [
    "__Q5a.__ Comment on any major differences among the distributions."
   ]
  },
  {
   "cell_type": "markdown",
   "metadata": {},
   "source": []
  },
  {
   "cell_type": "markdown",
   "metadata": {},
   "source": [
    "__Q5b.__ Restrict the sample to people between 30 and 40 years of age.  Then calculate the median household size for women and men within each level of educational attainment."
   ]
  },
  {
   "cell_type": "code",
   "execution_count": 7,
   "metadata": {},
   "outputs": [],
   "source": [
    "# insert your code here"
   ]
  },
  {
   "cell_type": "markdown",
   "metadata": {},
   "source": [
    "## Question 6\n",
    "\n",
    "The participants can be clustered into \"maked variance units\" (MVU) based on every combination of the variables [SDMVSTRA](https://wwwn.cdc.gov/Nchs/Nhanes/2015-2016/DEMO_I.htm#SDMVSTRA) and [SDMVPSU](https://wwwn.cdc.gov/Nchs/Nhanes/2015-2016/DEMO_I.htm#SDMVPSU).  Calculate the mean age ([RIDAGEYR](https://wwwn.cdc.gov/Nchs/Nhanes/2015-2016/DEMO_I.htm#RIDAGEYR)), height ([BMXHT](https://wwwn.cdc.gov/Nchs/Nhanes/2015-2016/BMX_I.htm#BMXHT)), and BMI ([BMXBMI](https://wwwn.cdc.gov/Nchs/Nhanes/2015-2016/BMX_I.htm#BMXBMI)) for each gender ([RIAGENDR](https://wwwn.cdc.gov/Nchs/Nhanes/2015-2016/DEMO_I.htm#RIAGENDR)), within each MVU, and report the ratio between the largest and smallest mean (e.g. for height) across the MVUs."
   ]
  },
  {
   "cell_type": "code",
   "execution_count": 1,
   "metadata": {},
   "outputs": [],
   "source": [
    "# insert your code here"
   ]
  },
  {
   "cell_type": "markdown",
   "metadata": {},
   "source": [
    "__Q6a.__ Comment on the extent to which mean age, height, and BMI vary among the MVUs."
   ]
  },
  {
   "cell_type": "markdown",
   "metadata": {},
   "source": []
  },
  {
   "cell_type": "markdown",
   "metadata": {},
   "source": [
    "__Q6b.__ Calculate the inter-quartile range (IQR) for age, height, and BMI for each gender and each MVU.  Report the ratio between the largest and smalles IQR across the MVUs."
   ]
  },
  {
   "cell_type": "code",
   "execution_count": null,
   "metadata": {},
   "outputs": [],
   "source": [
    "# insert your code here"
   ]
  },
  {
   "cell_type": "markdown",
   "metadata": {},
   "source": [
    "__Q6c.__ Comment on the extent to which the IQR for age, height, and BMI vary among the MVUs."
   ]
  },
  {
   "cell_type": "markdown",
   "metadata": {},
   "source": []
  }
 ],
 "metadata": {
  "kernelspec": {
   "display_name": "Python 3",
   "language": "python",
   "name": "python3"
  },
  "language_info": {
   "codemirror_mode": {
    "name": "ipython",
    "version": 3
   },
   "file_extension": ".py",
   "mimetype": "text/x-python",
   "name": "python",
   "nbconvert_exporter": "python",
   "pygments_lexer": "ipython3",
   "version": "3.6.3"
  }
 },
 "nbformat": 4,
 "nbformat_minor": 2
}
